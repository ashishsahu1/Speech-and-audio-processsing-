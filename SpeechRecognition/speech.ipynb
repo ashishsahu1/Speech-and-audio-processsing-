{
 "cells": [
  {
   "cell_type": "code",
   "execution_count": 7,
   "metadata": {},
   "outputs": [
    {
     "name": "stdout",
     "output_type": "stream",
     "text": [
      "user can speak now...\n",
      "Recording time:  05:23:49\n",
      "Text: \n",
      "\n",
      "hello there\n",
      "Finished, Thank you!!\n",
      "Execution time: 05:23:54\n"
     ]
    }
   ],
   "source": [
    "import speech_recognition as SRG\n",
    "import time\n",
    "store = SRG.Recognizer()\n",
    "with SRG.Microphone() as s:\n",
    "    \n",
    "    print(\"user can speak now...\")\n",
    "    \n",
    "    audio_input = store.record(s, duration=7)\n",
    "    print(\"Recording time: \",time.strftime(\"%I:%M:%S\"))\n",
    "    \n",
    "    try:\n",
    "        text_output = store.recognize_google(audio_input)\n",
    "        print(\"Text: \\n\")\n",
    "        print(text_output)\n",
    "        print(\"Finished, Thank you!!\")\n",
    "        \n",
    "        print(\"Execution time:\",time.strftime(\"%I:%M:%S\"))\n",
    "        \n",
    "    except:\n",
    "        print(\"Couldn't process the audio input. \")"
   ]
  },
  {
   "cell_type": "code",
   "execution_count": null,
   "metadata": {},
   "outputs": [],
   "source": []
  }
 ],
 "metadata": {
  "kernelspec": {
   "display_name": "Python 3",
   "language": "python",
   "name": "python3"
  },
  "language_info": {
   "codemirror_mode": {
    "name": "ipython",
    "version": 3
   },
   "file_extension": ".py",
   "mimetype": "text/x-python",
   "name": "python",
   "nbconvert_exporter": "python",
   "pygments_lexer": "ipython3",
   "version": "3.7.7"
  }
 },
 "nbformat": 4,
 "nbformat_minor": 4
}
